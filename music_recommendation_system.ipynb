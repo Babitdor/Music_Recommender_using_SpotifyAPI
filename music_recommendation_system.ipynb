{
 "cells": [
  {
   "cell_type": "markdown",
   "id": "07988ab3",
   "metadata": {},
   "source": [
    "# Using Spotify API to Extract Data from my Personal Playlist"
   ]
  },
  {
   "cell_type": "code",
   "execution_count": 248,
   "id": "23cde43f",
   "metadata": {},
   "outputs": [],
   "source": [
    "import spotipy\n",
    "import pandas as pd\n",
    "from spotipy.oauth2 import SpotifyClientCredentials\n",
    "\n",
    "#Authentication - without user\n",
    "client_credentials_manager = SpotifyClientCredentials(client_id='YourClientID', client_secret='YourSecretID')\n",
    "sp = spotipy.Spotify(client_credentials_manager = client_credentials_manager)"
   ]
  },
  {
   "cell_type": "code",
   "execution_count": 249,
   "id": "ffa67e6a",
   "metadata": {},
   "outputs": [],
   "source": [
    "playlist_link = \"https://open.spotify.com/playlist/5JFforWrze2uuzHMYMygIN\"\n",
    "track_uris = [x[\"track\"][\"uri\"] for x in sp.playlist_tracks(playlist_link)[\"items\"]]"
   ]
  },
  {
   "cell_type": "markdown",
   "id": "a4a45caf",
   "metadata": {},
   "source": [
    "# Extracting features from the tracks using track_uri obtained"
   ]
  },
  {
   "cell_type": "code",
   "execution_count": 250,
   "id": "f3a994b5",
   "metadata": {},
   "outputs": [],
   "source": [
    "data = sp.playlist_tracks(playlist_link)\n",
    "trackname = [x[\"track\"][\"name\"]for x in data[\"items\"]]\n",
    "\n",
    "df1=pd.DataFrame(trackname)\n",
    "df1.set_axis([\"song_title\"],axis=1,inplace=True)\n",
    "\n",
    "\n",
    "features = sp.audio_features(track_uris)\n",
    "df=pd.DataFrame(features)"
   ]
  },
  {
   "cell_type": "code",
   "execution_count": 251,
   "id": "09933c6a",
   "metadata": {},
   "outputs": [
    {
     "data": {
      "text/html": [
       "<div>\n",
       "<style scoped>\n",
       "    .dataframe tbody tr th:only-of-type {\n",
       "        vertical-align: middle;\n",
       "    }\n",
       "\n",
       "    .dataframe tbody tr th {\n",
       "        vertical-align: top;\n",
       "    }\n",
       "\n",
       "    .dataframe thead th {\n",
       "        text-align: right;\n",
       "    }\n",
       "</style>\n",
       "<table border=\"1\" class=\"dataframe\">\n",
       "  <thead>\n",
       "    <tr style=\"text-align: right;\">\n",
       "      <th></th>\n",
       "      <th>danceability</th>\n",
       "      <th>energy</th>\n",
       "      <th>key</th>\n",
       "      <th>loudness</th>\n",
       "      <th>mode</th>\n",
       "      <th>speechiness</th>\n",
       "      <th>acousticness</th>\n",
       "      <th>instrumentalness</th>\n",
       "      <th>liveness</th>\n",
       "      <th>valence</th>\n",
       "      <th>tempo</th>\n",
       "      <th>type</th>\n",
       "      <th>id</th>\n",
       "      <th>uri</th>\n",
       "      <th>track_href</th>\n",
       "      <th>analysis_url</th>\n",
       "      <th>duration_ms</th>\n",
       "      <th>time_signature</th>\n",
       "      <th>song_title</th>\n",
       "    </tr>\n",
       "  </thead>\n",
       "  <tbody>\n",
       "    <tr>\n",
       "      <th>0</th>\n",
       "      <td>0.371</td>\n",
       "      <td>0.268</td>\n",
       "      <td>1</td>\n",
       "      <td>-10.506</td>\n",
       "      <td>1</td>\n",
       "      <td>0.0281</td>\n",
       "      <td>0.74800</td>\n",
       "      <td>0.0517</td>\n",
       "      <td>0.1040</td>\n",
       "      <td>0.165</td>\n",
       "      <td>102.617</td>\n",
       "      <td>audio_features</td>\n",
       "      <td>7D0RhFcb3CrfPuTJ0obrod</td>\n",
       "      <td>spotify:track:7D0RhFcb3CrfPuTJ0obrod</td>\n",
       "      <td>https://api.spotify.com/v1/tracks/7D0RhFcb3Crf...</td>\n",
       "      <td>https://api.spotify.com/v1/audio-analysis/7D0R...</td>\n",
       "      <td>227093</td>\n",
       "      <td>3</td>\n",
       "      <td>Sparks</td>\n",
       "    </tr>\n",
       "    <tr>\n",
       "      <th>1</th>\n",
       "      <td>0.585</td>\n",
       "      <td>0.595</td>\n",
       "      <td>8</td>\n",
       "      <td>-10.444</td>\n",
       "      <td>1</td>\n",
       "      <td>0.0328</td>\n",
       "      <td>0.06960</td>\n",
       "      <td>0.2660</td>\n",
       "      <td>0.0837</td>\n",
       "      <td>0.039</td>\n",
       "      <td>140.037</td>\n",
       "      <td>audio_features</td>\n",
       "      <td>2LKOHdMsL0K9KwcPRlJK2v</td>\n",
       "      <td>spotify:track:2LKOHdMsL0K9KwcPRlJK2v</td>\n",
       "      <td>https://api.spotify.com/v1/tracks/2LKOHdMsL0K9...</td>\n",
       "      <td>https://api.spotify.com/v1/audio-analysis/2LKO...</td>\n",
       "      <td>259147</td>\n",
       "      <td>4</td>\n",
       "      <td>After Dark</td>\n",
       "    </tr>\n",
       "    <tr>\n",
       "      <th>2</th>\n",
       "      <td>0.458</td>\n",
       "      <td>0.525</td>\n",
       "      <td>2</td>\n",
       "      <td>-11.800</td>\n",
       "      <td>1</td>\n",
       "      <td>0.0273</td>\n",
       "      <td>0.06610</td>\n",
       "      <td>0.2310</td>\n",
       "      <td>0.0906</td>\n",
       "      <td>0.317</td>\n",
       "      <td>130.105</td>\n",
       "      <td>audio_features</td>\n",
       "      <td>1h1xwHkWC8a0EPzTmLBXoG</td>\n",
       "      <td>spotify:track:1h1xwHkWC8a0EPzTmLBXoG</td>\n",
       "      <td>https://api.spotify.com/v1/tracks/1h1xwHkWC8a0...</td>\n",
       "      <td>https://api.spotify.com/v1/audio-analysis/1h1x...</td>\n",
       "      <td>335880</td>\n",
       "      <td>4</td>\n",
       "      <td>She - String Mix; 2007 Remaster</td>\n",
       "    </tr>\n",
       "    <tr>\n",
       "      <th>3</th>\n",
       "      <td>0.620</td>\n",
       "      <td>0.930</td>\n",
       "      <td>1</td>\n",
       "      <td>-3.685</td>\n",
       "      <td>1</td>\n",
       "      <td>0.0374</td>\n",
       "      <td>0.00043</td>\n",
       "      <td>0.0000</td>\n",
       "      <td>0.0686</td>\n",
       "      <td>0.609</td>\n",
       "      <td>106.220</td>\n",
       "      <td>audio_features</td>\n",
       "      <td>2g2a5kDeZexbUTD8abcvm6</td>\n",
       "      <td>spotify:track:2g2a5kDeZexbUTD8abcvm6</td>\n",
       "      <td>https://api.spotify.com/v1/tracks/2g2a5kDeZexb...</td>\n",
       "      <td>https://api.spotify.com/v1/audio-analysis/2g2a...</td>\n",
       "      <td>190173</td>\n",
       "      <td>4</td>\n",
       "      <td>Lifestyles of the Rich &amp; Famous</td>\n",
       "    </tr>\n",
       "    <tr>\n",
       "      <th>4</th>\n",
       "      <td>0.634</td>\n",
       "      <td>0.741</td>\n",
       "      <td>1</td>\n",
       "      <td>-5.470</td>\n",
       "      <td>1</td>\n",
       "      <td>0.0751</td>\n",
       "      <td>0.00670</td>\n",
       "      <td>0.0000</td>\n",
       "      <td>0.1540</td>\n",
       "      <td>0.499</td>\n",
       "      <td>102.988</td>\n",
       "      <td>audio_features</td>\n",
       "      <td>5TclgAYTVdTRLnHvTUhyIP</td>\n",
       "      <td>spotify:track:5TclgAYTVdTRLnHvTUhyIP</td>\n",
       "      <td>https://api.spotify.com/v1/tracks/5TclgAYTVdTR...</td>\n",
       "      <td>https://api.spotify.com/v1/audio-analysis/5Tcl...</td>\n",
       "      <td>182893</td>\n",
       "      <td>4</td>\n",
       "      <td>Entertain Me</td>\n",
       "    </tr>\n",
       "  </tbody>\n",
       "</table>\n",
       "</div>"
      ],
      "text/plain": [
       "   danceability  energy  key  loudness  mode  speechiness  acousticness  \\\n",
       "0         0.371   0.268    1   -10.506     1       0.0281       0.74800   \n",
       "1         0.585   0.595    8   -10.444     1       0.0328       0.06960   \n",
       "2         0.458   0.525    2   -11.800     1       0.0273       0.06610   \n",
       "3         0.620   0.930    1    -3.685     1       0.0374       0.00043   \n",
       "4         0.634   0.741    1    -5.470     1       0.0751       0.00670   \n",
       "\n",
       "   instrumentalness  liveness  valence    tempo            type  \\\n",
       "0            0.0517    0.1040    0.165  102.617  audio_features   \n",
       "1            0.2660    0.0837    0.039  140.037  audio_features   \n",
       "2            0.2310    0.0906    0.317  130.105  audio_features   \n",
       "3            0.0000    0.0686    0.609  106.220  audio_features   \n",
       "4            0.0000    0.1540    0.499  102.988  audio_features   \n",
       "\n",
       "                       id                                   uri  \\\n",
       "0  7D0RhFcb3CrfPuTJ0obrod  spotify:track:7D0RhFcb3CrfPuTJ0obrod   \n",
       "1  2LKOHdMsL0K9KwcPRlJK2v  spotify:track:2LKOHdMsL0K9KwcPRlJK2v   \n",
       "2  1h1xwHkWC8a0EPzTmLBXoG  spotify:track:1h1xwHkWC8a0EPzTmLBXoG   \n",
       "3  2g2a5kDeZexbUTD8abcvm6  spotify:track:2g2a5kDeZexbUTD8abcvm6   \n",
       "4  5TclgAYTVdTRLnHvTUhyIP  spotify:track:5TclgAYTVdTRLnHvTUhyIP   \n",
       "\n",
       "                                          track_href  \\\n",
       "0  https://api.spotify.com/v1/tracks/7D0RhFcb3Crf...   \n",
       "1  https://api.spotify.com/v1/tracks/2LKOHdMsL0K9...   \n",
       "2  https://api.spotify.com/v1/tracks/1h1xwHkWC8a0...   \n",
       "3  https://api.spotify.com/v1/tracks/2g2a5kDeZexb...   \n",
       "4  https://api.spotify.com/v1/tracks/5TclgAYTVdTR...   \n",
       "\n",
       "                                        analysis_url  duration_ms  \\\n",
       "0  https://api.spotify.com/v1/audio-analysis/7D0R...       227093   \n",
       "1  https://api.spotify.com/v1/audio-analysis/2LKO...       259147   \n",
       "2  https://api.spotify.com/v1/audio-analysis/1h1x...       335880   \n",
       "3  https://api.spotify.com/v1/audio-analysis/2g2a...       190173   \n",
       "4  https://api.spotify.com/v1/audio-analysis/5Tcl...       182893   \n",
       "\n",
       "   time_signature                       song_title  \n",
       "0               3                           Sparks  \n",
       "1               4                       After Dark  \n",
       "2               4  She - String Mix; 2007 Remaster  \n",
       "3               4  Lifestyles of the Rich & Famous  \n",
       "4               4                     Entertain Me  "
      ]
     },
     "execution_count": 251,
     "metadata": {},
     "output_type": "execute_result"
    }
   ],
   "source": [
    "Data = pd.concat([df,df1],axis=1, join='inner')\n",
    "Data.head()"
   ]
  },
  {
   "cell_type": "markdown",
   "id": "703207e6",
   "metadata": {},
   "source": [
    "# Features "
   ]
  },
  {
   "cell_type": "code",
   "execution_count": 252,
   "id": "2d06a69d",
   "metadata": {},
   "outputs": [
    {
     "name": "stdout",
     "output_type": "stream",
     "text": [
      "<class 'pandas.core.frame.DataFrame'>\n",
      "RangeIndex: 77 entries, 0 to 76\n",
      "Data columns (total 18 columns):\n",
      " #   Column            Non-Null Count  Dtype  \n",
      "---  ------            --------------  -----  \n",
      " 0   danceability      77 non-null     float64\n",
      " 1   energy            77 non-null     float64\n",
      " 2   key               77 non-null     int64  \n",
      " 3   loudness          77 non-null     float64\n",
      " 4   mode              77 non-null     int64  \n",
      " 5   speechiness       77 non-null     float64\n",
      " 6   acousticness      77 non-null     float64\n",
      " 7   instrumentalness  77 non-null     float64\n",
      " 8   liveness          77 non-null     float64\n",
      " 9   valence           77 non-null     float64\n",
      " 10  tempo             77 non-null     float64\n",
      " 11  type              77 non-null     object \n",
      " 12  id                77 non-null     object \n",
      " 13  uri               77 non-null     object \n",
      " 14  track_href        77 non-null     object \n",
      " 15  analysis_url      77 non-null     object \n",
      " 16  duration_ms       77 non-null     int64  \n",
      " 17  time_signature    77 non-null     int64  \n",
      "dtypes: float64(9), int64(4), object(5)\n",
      "memory usage: 11.0+ KB\n"
     ]
    }
   ],
   "source": [
    "df.info()"
   ]
  },
  {
   "cell_type": "markdown",
   "id": "dff320d0",
   "metadata": {},
   "source": [
    "# Feature Scaling"
   ]
  },
  {
   "cell_type": "code",
   "execution_count": 253,
   "id": "68a1246a",
   "metadata": {},
   "outputs": [],
   "source": [
    "feature_cols=['danceability','energy','key', 'loudness', 'mode',\n",
    "              'speechiness', 'acousticness','instrumentalness','liveness', 'valence','tempo','duration_ms','time_signature']"
   ]
  },
  {
   "cell_type": "code",
   "execution_count": 264,
   "id": "7e8eb511",
   "metadata": {},
   "outputs": [
    {
     "name": "stdout",
     "output_type": "stream",
     "text": [
      "[[0.25405405 0.22299573 0.09090909 0.46320319 1.         0.02368265\n",
      "  0.760157   0.05470899 0.09104345 0.1875184  0.32895491 0.33187752\n",
      "  0.        ]\n",
      " [0.63963964 0.59016393 0.72727273 0.46706998 1.         0.05150977\n",
      "  0.07070999 0.28148148 0.0610405  0.00206064 0.66934406 0.45833974\n",
      "  0.5       ]]\n"
     ]
    }
   ],
   "source": [
    "from sklearn.preprocessing import MinMaxScaler\n",
    "scaler = MinMaxScaler()\n",
    "normalized_df = scaler.fit_transform(df[feature_cols])\n",
    "\n",
    "print(normalized_df[:2])"
   ]
  },
  {
   "cell_type": "markdown",
   "id": "8a19e5f4",
   "metadata": {},
   "source": [
    "## Building the Recommendation System using Cosine Similarity and Sigmoid Kernel \n"
   ]
  },
  {
   "cell_type": "code",
   "execution_count": 299,
   "id": "d6978478",
   "metadata": {},
   "outputs": [],
   "source": [
    "from sklearn.metrics.pairwise import sigmoid_kernel\n",
    "from sklearn.metrics.pairwise import cosine_similarity\n",
    "\n",
    "indices = pd.Series(df.index, index=Data['song_title']).drop_duplicates()\n",
    "# using Cosine_similarity\n",
    "cosine = cosine_similarity(normalized_df)\n",
    "sig_kernel = sigmoid_kernel(normalized_df)\n",
    "\n",
    "def recommendation_generation(song_title,model_type=cosine):\n",
    "    index=indices[song_title]\n",
    "    # Get list of songs for given songs\n",
    "    score=list(enumerate(model_type[index]))\n",
    "    \n",
    "    # Sort the most similar songs\n",
    "    similarity_score = sorted(score,key = lambda x:x[1],reverse = True)\n",
    "    \n",
    "    # Select the top-10 recommended songs.\n",
    "    similarity_score = similarity_score[1:11]\n",
    "    \n",
    "    top_songs_index = [i[0] for i in similarity_score]\n",
    "    \n",
    "    # Top 10 recommended songs\n",
    "    top_songs=Data['song_title'].iloc[top_songs_index]\n",
    "    return top_songs"
   ]
  },
  {
   "cell_type": "code",
   "execution_count": 300,
   "id": "e6ebe50b",
   "metadata": {},
   "outputs": [
    {
     "name": "stdout",
     "output_type": "stream",
     "text": [
      "Recommended Songs (Using Cosine Similarity):\n",
      "\n",
      "['Lifestyles of the Rich & Famous' 'Entertain Me' 'Fuel' 'Perfect'\n",
      " 'Save Your Tears' 'STAY' 'Lips Of An Angel' 'Not Meant to Be'\n",
      " 'Without You' 'December']\n"
     ]
    }
   ],
   "source": [
    "print(\"Recommended Songs (Using Cosine Similarity):\\n\")\n",
    "print(recommendation_generation('Circles',cosine).values)"
   ]
  },
  {
   "cell_type": "code",
   "execution_count": 301,
   "id": "50f57196",
   "metadata": {},
   "outputs": [
    {
     "name": "stdout",
     "output_type": "stream",
     "text": [
      "Recommended Songs (Using Sigmoid Kernal):\n",
      "\n",
      "[\"Savin' Me\" 'Save Your Tears' 'Lost in You' 'Lifeline' 'Run'\n",
      " 'The Unforgiven II' 'Breathing' 'Unwell' \"Freakin' Out On the Interstate\"\n",
      " 'Helena']\n"
     ]
    }
   ],
   "source": [
    "print(\"Recommended Songs (Using Sigmoid Kernal):\\n\")\n",
    "print(recommendation_generation('Drown',sig_kernel).values)"
   ]
  }
 ],
 "metadata": {
  "kernelspec": {
   "display_name": "Python 3",
   "language": "python",
   "name": "python3"
  },
  "language_info": {
   "codemirror_mode": {
    "name": "ipython",
    "version": 3
   },
   "file_extension": ".py",
   "mimetype": "text/x-python",
   "name": "python",
   "nbconvert_exporter": "python",
   "pygments_lexer": "ipython3",
   "version": "3.8.8"
  }
 },
 "nbformat": 4,
 "nbformat_minor": 5
}
