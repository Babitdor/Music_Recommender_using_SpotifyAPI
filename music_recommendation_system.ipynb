{
 "cells": [
  {
   "cell_type": "code",
   "execution_count": 38,
   "id": "851f4cf1",
   "metadata": {},
   "outputs": [],
   "source": [
    "import spotipy\n",
    "from spotipy.oauth2 import SpotifyClientCredentials\n",
    "\n",
    "#Authentication - without user\n",
    "client_credentials_manager = SpotifyClientCredentials(client_id='cid', client_secret='c_secret')\n",
    "sp = spotipy.Spotify(client_credentials_manager = client_credentials_manager)"
   ]
  },
  {
   "cell_type": "code",
   "execution_count": 39,
   "id": "21832178",
   "metadata": {},
   "outputs": [],
   "source": [
    "playlist_link = \"https://open.spotify.com/playlist/5JFforWrze2uuzHMYMygIN\"\n",
    "track_uris = [x[\"track\"][\"uri\"] for x in sp.playlist_tracks(playlist_link)[\"items\"]]"
   ]
  },
  {
   "cell_type": "code",
   "execution_count": 40,
   "id": "1550cf08",
   "metadata": {},
   "outputs": [],
   "source": [
    "for track in sp.playlist_tracks(playlist_link)[\"items\"]:\n",
    "    #URI\n",
    "    track_uri = track[\"track\"][\"uri\"]\n",
    "    \n",
    "    #Track name\n",
    "    track_name = track[\"track\"][\"name\"]\n",
    "    \n",
    "    #Main Artist\n",
    "    artist_uri = track[\"track\"][\"artists\"][0][\"uri\"]\n",
    "    artist_info = sp.artist(artist_uri)\n",
    "    \n",
    "    #Name, popularity, genre\n",
    "    artist_name = track[\"track\"][\"artists\"][0][\"name\"]\n",
    "    artist_pop = artist_info[\"popularity\"]\n",
    "    artist_genres = artist_info[\"genres\"]\n",
    "    \n",
    "    #Album\n",
    "    album = track[\"track\"][\"album\"][\"name\"]\n",
    "    \n",
    "    #Popularity of the track\n",
    "    track_pop = track[\"track\"][\"popularity\"]"
   ]
  },
  {
   "cell_type": "markdown",
   "id": "6504a8f2",
   "metadata": {},
   "source": [
    "# Extracting features from the tracks using track_uri obtained"
   ]
  },
  {
   "cell_type": "code",
   "execution_count": 41,
   "id": "db26b86d",
   "metadata": {
    "scrolled": true
   },
   "outputs": [
    {
     "data": {
      "text/plain": [
       "{'danceability': 0.633,\n",
       " 'energy': 0.507,\n",
       " 'key': 11,\n",
       " 'loudness': -6.779,\n",
       " 'mode': 0,\n",
       " 'speechiness': 0.0456,\n",
       " 'acousticness': 0.206,\n",
       " 'instrumentalness': 2.97e-05,\n",
       " 'liveness': 0.358,\n",
       " 'valence': 0.367,\n",
       " 'tempo': 75.04,\n",
       " 'type': 'audio_features',\n",
       " 'id': '2yk8XLalqQWjBd8GLBq7kS',\n",
       " 'uri': 'spotify:track:2yk8XLalqQWjBd8GLBq7kS',\n",
       " 'track_href': 'https://api.spotify.com/v1/tracks/2yk8XLalqQWjBd8GLBq7kS',\n",
       " 'analysis_url': 'https://api.spotify.com/v1/audio-analysis/2yk8XLalqQWjBd8GLBq7kS',\n",
       " 'duration_ms': 229983,\n",
       " 'time_signature': 4}"
      ]
     },
     "execution_count": 41,
     "metadata": {},
     "output_type": "execute_result"
    }
   ],
   "source": [
    "sp.audio_features(track_uri)[0]"
   ]
  },
  {
   "cell_type": "markdown",
   "id": "a8d8dceb",
   "metadata": {},
   "source": [
    "# Features "
   ]
  },
  {
   "cell_type": "code",
   "execution_count": null,
   "id": "e24a0905",
   "metadata": {},
   "outputs": [],
   "source": []
  }
 ],
 "metadata": {
  "kernelspec": {
   "display_name": "Python 3",
   "language": "python",
   "name": "python3"
  },
  "language_info": {
   "codemirror_mode": {
    "name": "ipython",
    "version": 3
   },
   "file_extension": ".py",
   "mimetype": "text/x-python",
   "name": "python",
   "nbconvert_exporter": "python",
   "pygments_lexer": "ipython3",
   "version": "3.8.8"
  }
 },
 "nbformat": 4,
 "nbformat_minor": 5
}
